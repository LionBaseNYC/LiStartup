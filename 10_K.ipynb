{
 "cells": [
  {
   "cell_type": "code",
   "execution_count": 1,
   "metadata": {
    "colab": {},
    "colab_type": "code",
    "id": "1E78o-Zd3ADV"
   },
   "outputs": [],
   "source": [
    "\n",
    "import pandas as pd\n",
    "import numpy as np\n",
    "import requests\n",
    "from bs4 import BeautifulSoup\n"
   ]
  },
  {
   "cell_type": "markdown",
   "metadata": {
    "colab_type": "text",
    "id": "O8S2faqk3ADf"
   },
   "source": [
    "The function get_10_K() below takes 2 parameters. \n",
    "        # >\"year\" is the year of 10-K report.\n",
    "        # >\"start\" is the corresponding iterator that iterates through 1->the number of 10-K reports"
   ]
  },
  {
   "cell_type": "code",
   "execution_count": 2,
   "metadata": {
    "colab": {},
    "colab_type": "code",
    "id": "_ofU-WN_3ADh"
   },
   "outputs": [],
   "source": [
    "\n",
    "def get_10_K(start,year=\"2018\",path='/gcloud/'):\n",
    "# initiate the url\n",
    "    start=str(start)\n",
    "    url_1=\"https://www.sec.gov/cgi-bin/srch-edgar?text=%2210-K%22%20NOT%20%22NT%22&start=\"+start+\"&count=1&first=\"+year+\"&last=\"+year\n",
    "\n",
    "#Step 1: access the search website\n",
    "    response = requests.get(url_1)\n",
    "    if response.status_code == 200:\n",
    "        pass\n",
    "    else:\n",
    "        print(\"Failure\")\n",
    "\n",
    "#Step 2: Print and Find the 10K report tag\n",
    "    results_page = BeautifulSoup(response.content,'lxml')\n",
    "    #print(results_page.prettify())\n",
    "\n",
    "    td_tag = results_page.find('td',align=\"left\",valign=\"top\")\n",
    "\n",
    "# Generate the URL for next step.\n",
    "    CompanyName=td_tag.find(\"a\").get_text()\n",
    "    url_2=td_tag.find(\"a\").get(\"href\")\n",
    "    url_2=\"https://www.sec.gov\"+url_2\n",
    "\n",
    "# Step 3: access the index file\n",
    "    response_2 = requests.get(url_2)\n",
    "    if response_2.status_code == 200:\n",
    "        pass\n",
    "    else:\n",
    "        print(\"Failure\")\n",
    "# Step 4: genreate the url of the 10-K report: url_3\n",
    "    results_page_2 = BeautifulSoup(response_2.content,'lxml')\n",
    "    #print(results_page_2.prettify())\n",
    "\n",
    "    all_td_tags_2 = results_page_2.find_all('td',scope=\"row\")\n",
    "\n",
    "    url_3=all_td_tags_2[2].find(\"a\").get(\"href\")\n",
    "    url_3=\"https://www.sec.gov\"+url_3\n",
    "\n",
    "    response_3=requests.get(url_3)\n",
    "    if response_3.status_code == 200:\n",
    "        pass\n",
    "    else:\n",
    "        print(\"Failure\")\n",
    "\n",
    "    results_page_3 = BeautifulSoup(response_3.content,'lxml')\n",
    "    #print(results_page.prettify())\n",
    "# Step 5: search for and  gather the text file( assume all useful information is embedded in tab <p> )\n",
    "    all_font_tags = results_page_3.find_all('p')\n",
    "\n",
    "    text=\"\"\n",
    "    for tag in all_font_tags:\n",
    "        text=text+\" \"+tag.get_text()\n",
    "\n",
    "# Step 6: If fails, try assumption: tab <font> )\n",
    "    if len(text)<5000:\n",
    "        all_font_tags = results_page_3.find_all('font')\n",
    "\n",
    "        text=\"\"\n",
    "        for tag in all_font_tags:\n",
    "            text=text+\" \"+tag.get_text()\n",
    "# Step 7: If still fails, skip the document-writing part and print error message)   \n",
    "    flag=(len(text)<8000)\n",
    "    \n",
    "    if not os.path.exists(path):\n",
    "        os.makedirs(path)\n",
    "    if not flag:\n",
    "        CompanyName=CompanyName.replace(\"/\",\"_\")\n",
    "        CompanyName=CompanyName.replace(\"\\\\\",\"_\")\n",
    "        with open(path+CompanyName+'.txt', 'w',encoding=\"utf-8\") as f:  \n",
    "            f.write(text)\n",
    "            f.close()\n",
    "    else:\n",
    "        print(\"Company Name:\",CompanyName)\n",
    "        print(\"Text Length\",len(text))\n",
    "        print(\"link to 10-K\",url_3)\n",
    "    return flag,CompanyName,len(text),url_3"
   ]
  },
  {
   "cell_type": "markdown",
   "metadata": {
    "colab_type": "text",
    "id": "c4-9fzFc3ADn"
   },
   "source": [
    "Follow the template below to write all 10-K reports!"
   ]
  },
  {
   "cell_type": "code",
   "execution_count": 4,
   "metadata": {
    "colab": {},
    "colab_type": "code",
    "id": "aWPAqW5m3ADp",
    "scrolled": true
   },
   "outputs": [
    {
     "ename": "NameError",
     "evalue": "name 'tqdm' is not defined",
     "output_type": "error",
     "traceback": [
      "\u001b[1;31m---------------------------------------------------------------------------\u001b[0m",
      "\u001b[1;31mNameError\u001b[0m                                 Traceback (most recent call last)",
      "\u001b[1;32m<ipython-input-4-281f02bc4720>\u001b[0m in \u001b[0;36m<module>\u001b[1;34m\u001b[0m\n\u001b[0;32m      1\u001b[0m \u001b[0mFailed_dict\u001b[0m\u001b[1;33m=\u001b[0m\u001b[1;33m{\u001b[0m\u001b[1;33m}\u001b[0m\u001b[1;33m\u001b[0m\u001b[1;33m\u001b[0m\u001b[0m\n\u001b[1;32m----> 2\u001b[1;33m \u001b[1;32mfor\u001b[0m \u001b[0mstart\u001b[0m \u001b[1;32min\u001b[0m \u001b[0mtqdm\u001b[0m\u001b[1;33m(\u001b[0m\u001b[0mrange\u001b[0m\u001b[1;33m(\u001b[0m\u001b[1;36m1\u001b[0m\u001b[1;33m,\u001b[0m\u001b[1;36m7001\u001b[0m\u001b[1;33m)\u001b[0m\u001b[1;33m)\u001b[0m\u001b[1;33m:\u001b[0m\u001b[1;33m\u001b[0m\u001b[1;33m\u001b[0m\u001b[0m\n\u001b[0m\u001b[0;32m      3\u001b[0m     \u001b[0mflag\u001b[0m\u001b[1;33m,\u001b[0m\u001b[0mCompanyName\u001b[0m\u001b[1;33m,\u001b[0m\u001b[0mtext_len\u001b[0m\u001b[1;33m,\u001b[0m\u001b[0murl\u001b[0m\u001b[1;33m=\u001b[0m\u001b[0mget_10_K\u001b[0m\u001b[1;33m(\u001b[0m\u001b[0mstart\u001b[0m\u001b[1;33m)\u001b[0m\u001b[1;33m\u001b[0m\u001b[1;33m\u001b[0m\u001b[0m\n\u001b[0;32m      4\u001b[0m \u001b[1;33m\u001b[0m\u001b[0m\n\u001b[0;32m      5\u001b[0m     \u001b[1;32mif\u001b[0m \u001b[0mflag\u001b[0m\u001b[1;33m:\u001b[0m\u001b[1;33m\u001b[0m\u001b[1;33m\u001b[0m\u001b[0m\n",
      "\u001b[1;31mNameError\u001b[0m: name 'tqdm' is not defined"
     ]
    }
   ],
   "source": [
    "Failed_dict={}\n",
    "for start in tqdm(range(1,7001)):\n",
    "    flag,CompanyName,text_len,url=get_10_K(start)\n",
    "    \n",
    "    if flag:\n",
    "        print(start,\"Fail!!!!!!!!!!!!!!!!!!!!!!!!!!!!!!!!!!!!\")\n",
    "        Failed_dict[CompanyName]=url\n",
    "with open(path+'Failed_dict.txt', 'w',encoding=\"utf-8\") as f:  \n",
    "    f.write(Failed_dict)\n",
    "    f.close()"
   ]
  },
  {
   "cell_type": "code",
   "execution_count": 0,
   "metadata": {
    "colab": {},
    "colab_type": "code",
    "id": "qOmZwFJX8H2R"
   },
   "outputs": [],
   "source": []
  }
 ],
 "metadata": {
  "colab": {
   "name": "10-K.ipynb",
   "provenance": [],
   "version": "0.3.2"
  },
  "kernelspec": {
   "display_name": "Python 3",
   "language": "python",
   "name": "python3"
  },
  "language_info": {
   "codemirror_mode": {
    "name": "ipython",
    "version": 3
   },
   "file_extension": ".py",
   "mimetype": "text/x-python",
   "name": "python",
   "nbconvert_exporter": "python",
   "pygments_lexer": "ipython3",
   "version": "3.7.1"
  }
 },
 "nbformat": 4,
 "nbformat_minor": 1
}
