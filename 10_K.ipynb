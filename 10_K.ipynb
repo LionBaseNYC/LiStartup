{
  "nbformat": 4,
  "nbformat_minor": 0,
  "metadata": {
    "colab": {
      "name": "10_K.ipynb",
      "version": "0.3.2",
      "provenance": [],
      "collapsed_sections": []
    },
    "language_info": {
      "codemirror_mode": {
        "name": "ipython",
        "version": 3
      },
      "file_extension": ".py",
      "mimetype": "text/x-python",
      "name": "python",
      "nbconvert_exporter": "python",
      "pygments_lexer": "ipython3",
      "version": "3.7.1"
    },
    "kernelspec": {
      "display_name": "Python 3",
      "language": "python",
      "name": "python3"
    }
  },
  "cells": [
    {
      "metadata": {
        "id": "1E78o-Zd3ADV",
        "colab_type": "code",
        "colab": {}
      },
      "cell_type": "code",
      "source": [
        "from tqdm import tqdm\n",
        "import pandas as pd\n",
        "import numpy as np\n",
        "import requests\n",
        "import csv\n",
        "from bs4 import BeautifulSoup\n",
        "from google.colab import files\n",
        "import os\n"
      ],
      "execution_count": 0,
      "outputs": []
    },
    {
      "metadata": {
        "id": "O8S2faqk3ADf",
        "colab_type": "text"
      },
      "cell_type": "markdown",
      "source": [
        "The function get_10_K() below takes 2 parameters. \n",
        "        # >\"year\" is the year of 10-K report.\n",
        "        # >\"start\" is the corresponding iterator that iterates through 1->the number of 10-K reports"
      ]
    },
    {
      "metadata": {
        "id": "_ofU-WN_3ADh",
        "colab_type": "code",
        "colab": {}
      },
      "cell_type": "code",
      "source": [
        "\n",
        "def get_10_K(start,year=\"2018\",path=\"/0000hhy\"):\n",
        "# initiate the url\n",
        "    start=str(start)\n",
        "    url_1=\"https://www.sec.gov/cgi-bin/srch-edgar?text=%2210-K%22%20NOT%20%22NT%22&start=\"+start+\"&count=1&first=\"+year+\"&last=\"+year\n",
        "\n",
        "#Step 1: access the search website\n",
        "    response = requests.get(url_1)\n",
        "    if response.status_code == 200:\n",
        "        pass\n",
        "    else:\n",
        "        print(\"Failure\")\n",
        "\n",
        "#Step 2: Print and Find the 10K report tag\n",
        "    results_page = BeautifulSoup(response.content,'lxml')\n",
        "    #print(results_page.prettify())\n",
        "\n",
        "    td_tag = results_page.find('td',align=\"left\",valign=\"top\")\n",
        "\n",
        "# Generate the URL for next step.\n",
        "    CompanyName=td_tag.find(\"a\").get_text()\n",
        "    url_2=td_tag.find(\"a\").get(\"href\")\n",
        "    url_2=\"https://www.sec.gov\"+url_2\n",
        "\n",
        "# Step 3: access the index file\n",
        "    response_2 = requests.get(url_2)\n",
        "    if response_2.status_code == 200:\n",
        "        pass\n",
        "    else:\n",
        "        print(\"Failure\")\n",
        "# Step 4: genreate the url of the 10-K report: url_3\n",
        "    results_page_2 = BeautifulSoup(response_2.content,'lxml')\n",
        "    #print(results_page_2.prettify())\n",
        "\n",
        "    all_td_tags_2 = results_page_2.find_all('td',scope=\"row\")\n",
        "\n",
        "    url_3=all_td_tags_2[2].find(\"a\").get(\"href\")\n",
        "    url_3=\"https://www.sec.gov\"+url_3\n",
        "\n",
        "    response_3=requests.get(url_3)\n",
        "    if response_3.status_code == 200:\n",
        "        pass\n",
        "    else:\n",
        "        print(\"Failure\")\n",
        "\n",
        "    results_page_3 = BeautifulSoup(response_3.content,'lxml')\n",
        "    #print(results_page.prettify())\n",
        "# Step 5: search for and  gather the text file( assume all useful information is embedded in tab <p> )\n",
        "    all_font_tags = results_page_3.find_all('p')\n",
        "\n",
        "    text=\"\"\n",
        "    for tag in all_font_tags:\n",
        "        text=text+\" \"+tag.get_text()\n",
        "\n",
        "# Step 6: If fails, try assumption: tab <font> )\n",
        "    if len(text)<5000:\n",
        "        all_font_tags = results_page_3.find_all('font')\n",
        "\n",
        "        text=\"\"\n",
        "        for tag in all_font_tags:\n",
        "            text=text+\" \"+tag.get_text()\n",
        "# Step 7: If still fails, skip the document-writing part and print error message)   \n",
        "    flag=(len(text)<8000)\n",
        "    \n",
        "    if not os.path.exists(path):\n",
        "        os.makedirs(path)\n",
        "    if not flag:\n",
        "        CompanyName=CompanyName.replace(\"/\",\"_\")\n",
        "        CompanyName=CompanyName.replace(\"\\\\\",\"_\")\n",
        "        with open(path+\"/\"+CompanyName+'.txt', 'w',encoding=\"utf-8\") as f:  \n",
        "            f.write(text)\n",
        "            f.close()\n",
        "    else:\n",
        "        print(\"Company Name:\",CompanyName)\n",
        "        print(\"Text Length\",len(text))\n",
        "        print(\"link to 10-K\",url_3)\n",
        "    return flag,CompanyName,len(text),url_3"
      ],
      "execution_count": 0,
      "outputs": []
    },
    {
      "metadata": {
        "id": "c4-9fzFc3ADn",
        "colab_type": "text"
      },
      "cell_type": "markdown",
      "source": [
        "Follow the template below to write all 10-K reports!"
      ]
    },
    {
      "metadata": {
        "scrolled": true,
        "id": "aWPAqW5m3ADp",
        "colab_type": "code",
        "colab": {
          "base_uri": "https://localhost:8080/",
          "height": 90
        },
        "outputId": "cf70aa61-8725-4422-adb1-5050f70a7450"
      },
      "cell_type": "code",
      "source": [
        "Failed_dict={}\n",
        "for start in tqdm(range(1,7001)):\n",
        "    flag,CompanyName,text_len,url=get_10_K(start)\n",
        "    \n",
        "    if flag:\n",
        "        print(start,\"Fail!!!!!!!!!!!!!!!!!!!!!!!!!!!!!!!!!!!!\")\n",
        "        Failed_dict[CompanyName]=url\n",
        "\n",
        "with open(path+'/000000Failed_Dict.txt', 'w',encoding=\"utf-8\") as f:  \n",
        "    f.write(Failed_dict)\n",
        "    f.close()"
      ],
      "execution_count": 0,
      "outputs": [
        {
          "output_type": "stream",
          "text": [
            "\n",
            "  0%|          | 0/7000 [00:00<?, ?it/s]\u001b[A\n",
            "  0%|          | 1/7000 [00:03<6:39:18,  3.42s/it]\u001b[A\n",
            "  0%|          | 2/7000 [00:07<6:51:18,  3.53s/it]\u001b[A"
          ],
          "name": "stderr"
        }
      ]
    },
    {
      "metadata": {
        "id": "qOmZwFJX8H2R",
        "colab_type": "code",
        "colab": {}
      },
      "cell_type": "code",
      "source": [
        ""
      ],
      "execution_count": 0,
      "outputs": []
    }
  ]
}