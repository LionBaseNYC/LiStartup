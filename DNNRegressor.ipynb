{
 "cells": [
  {
   "cell_type": "markdown",
   "metadata": {},
   "source": [
    "## The purpose of this notebook is to evalaate whether DNNRegression is a suitable approach to understand and predict market caps of corporations, based on a large number of features and a dataset of corporation financial information"
   ]
  },
  {
   "cell_type": "markdown",
   "metadata": {},
   "source": [
    "## NOTE: All the values represented are in millions"
   ]
  },
  {
   "cell_type": "code",
   "execution_count": null,
   "metadata": {},
   "outputs": [],
   "source": [
    "# Standard Imports\n",
    "import pandas as pd\n",
    "import matplotlib.pyplot as plt\n",
    "import numpy as np\n",
    "import sklearn\n",
    "import tensorflow as tf\n",
    "from sklearn.model_selection import train_test_split\n",
    "from sklearn.metrics import mean_squared_error\n",
    "from sklearn.preprocessing import StandardScaler\n",
    "from math import sqrt\n",
    "from statistics import mean\n",
    "%matplotlib inline\n",
    "path = './Private/Data/MasterDataset.csv'\n",
    "conversion_factor = 1000000"
   ]
  },
  {
   "cell_type": "code",
   "execution_count": null,
   "metadata": {},
   "outputs": [],
   "source": [
    "master_frame = pd.read_csv(path, sep='\\t')\n",
    "master_frame.drop(['Unnamed: 0'],axis=1,inplace=True)\n",
    "master_frame.dropna(inplace=True)"
   ]
  },
  {
   "cell_type": "code",
   "execution_count": null,
   "metadata": {},
   "outputs": [],
   "source": [
    "y_values = master_frame['current_market_cap_usd']\n",
    "master_frame.drop(['current_ebit'],axis=1, inplace=True)\n",
    "master_frame.drop(['current_market_cap_usd'],axis=1, inplace=True)\n",
    "master_frame.drop(['quote_symbol'],axis=1, inplace=True)\n",
    "master_frame.drop(['sedol'],axis=1, inplace=True)\n",
    "master_frame.drop(['country'],axis=1, inplace=True)\n",
    "master_frame.drop(['exchange'],axis=1, inplace=True)\n",
    "master_frame.drop(['primary_sic_code'],axis=1, inplace=True)\n",
    "master_frame.drop(['current_price_close'],axis=1, inplace=True)"
   ]
  },
  {
   "cell_type": "code",
   "execution_count": null,
   "metadata": {},
   "outputs": [],
   "source": [
    "def standardise(frame):\n",
    "    scaled_features = StandardScaler().fit_transform(frame.values)\n",
    "    new_frame = pd.DataFrame(scaled_features, index=frame.index, columns=frame.columns)\n",
    "    return new_frame"
   ]
  },
  {
   "cell_type": "code",
   "execution_count": null,
   "metadata": {},
   "outputs": [],
   "source": [
    "#master_frame = standardise(master_frame) #Commenting out the standardise function"
   ]
  },
  {
   "cell_type": "markdown",
   "metadata": {},
   "source": [
    "## Feature List post dropping irrelevant columns:"
   ]
  },
  {
   "cell_type": "code",
   "execution_count": null,
   "metadata": {},
   "outputs": [],
   "source": [
    "# Performing a 70-30 train test split\n",
    "x_train, x_test, y_train, y_test = train_test_split(master_frame,y_values,test_size=0.3,random_state=101)"
   ]
  },
  {
   "cell_type": "code",
   "execution_count": null,
   "metadata": {},
   "outputs": [],
   "source": [
    "for column in master_frame.columns:\n",
    "    print(column)"
   ]
  },
  {
   "cell_type": "code",
   "execution_count": null,
   "metadata": {},
   "outputs": [],
   "source": [
    "sales = tf.feature_column.numeric_column(\"current_sales\")\n",
    "ebitda = tf.feature_column.numeric_column(\"current_ebitda\")\n",
    "net_income = tf.feature_column.numeric_column(\"current_net_income\")\n",
    "assets = tf.feature_column.numeric_column(\"current_total_assets\")\n",
    "liabilities = tf.feature_column.numeric_column(\"current_total_liabilities\")\n",
    "pe = tf.feature_column.numeric_column(\"current_pe_ratio\")\n",
    "eps = tf.feature_column.numeric_column(\"actual_eps\")\n",
    "price_cash = tf.feature_column.numeric_column(\"current_price_/_cash\")\n",
    "price_sales = tf.feature_column.numeric_column(\"current_price_/_sales\")\n",
    "dividend = tf.feature_column.numeric_column(\"dividend_yield\")\n",
    "\n",
    "features = [sales, ebitda, net_income, assets, liabilities, pe, eps, price_cash, price_sales, dividend]"
   ]
  },
  {
   "cell_type": "code",
   "execution_count": null,
   "metadata": {},
   "outputs": [],
   "source": [
    "input_func = tf.estimator.inputs.pandas_input_fn(x=x_train,y=y_train,batch_size=10,num_epochs=None,shuffle=True)\n",
    "model_reg = tf.estimator.DNNRegressor(feature_columns=features, hidden_units=[6,10])\n",
    "\n",
    "n_steps = 100000\n",
    "model_reg.train(input_fn=input_func, steps=n_steps)"
   ]
  },
  {
   "cell_type": "code",
   "execution_count": null,
   "metadata": {},
   "outputs": [],
   "source": [
    "#Score with exact training values\n",
    "prediction_func = tf.estimator.inputs.pandas_input_fn(x=x_train,batch_size=len(x_train),shuffle=False)\n",
    "true_predictions = list(model_reg.predict(input_fn=prediction_func))\n",
    "#print(true_predictions)\n",
    "prediction_list = []\n",
    "for prediction in true_predictions:\n",
    "    prediction_list.append(prediction['predictions'][0])"
   ]
  },
  {
   "cell_type": "markdown",
   "metadata": {},
   "source": [
    "## Using a modified RMSE function with a percentile acceptable bound, in order to better understand our outputs"
   ]
  },
  {
   "cell_type": "code",
   "execution_count": null,
   "metadata": {},
   "outputs": [],
   "source": [
    "bound = 0.1\n",
    "def calc_bounded_error(y_pred, y_real):\n",
    "    lower = y_real*(1-bound)\n",
    "    upper = y_real*(1+bound)\n",
    "    difference_low = (y_pred-lower)**2\n",
    "    difference_up = (y_pred-upper)**2\n",
    "    if difference_up > difference_low:\n",
    "        return difference_low\n",
    "    return difference_up"
   ]
  },
  {
   "cell_type": "code",
   "execution_count": null,
   "metadata": {},
   "outputs": [],
   "source": [
    "def modified_rmse(y_predictions, y_tests):\n",
    "    my_list = []\n",
    "    for i in range(0,len(y_predictions)):\n",
    "        my_list.append(calc_bounded_error(y_predictions[i],y_tests[i]))\n",
    "    mean_val = mean(my_list)\n",
    "    modified_rmse = sqrt(mean_val)\n",
    "    return modified_rmse"
   ]
  },
  {
   "cell_type": "markdown",
   "metadata": {},
   "source": [
    "## Scoring the training data"
   ]
  },
  {
   "cell_type": "code",
   "execution_count": null,
   "metadata": {},
   "outputs": [],
   "source": [
    "y_train = y_train.values"
   ]
  },
  {
   "cell_type": "code",
   "execution_count": null,
   "metadata": {},
   "outputs": [],
   "source": [
    "modified_rmse(prediction_list,y_train)"
   ]
  },
  {
   "cell_type": "markdown",
   "metadata": {},
   "source": [
    "## Scoring the testing data"
   ]
  },
  {
   "cell_type": "code",
   "execution_count": null,
   "metadata": {},
   "outputs": [],
   "source": [
    "#Score with test values\n",
    "prediction_func = tf.estimator.inputs.pandas_input_fn(x=x_test,batch_size=len(x_test),shuffle=False)\n",
    "true_predictions = list(model_reg.predict(input_fn=prediction_func))\n",
    "#print(true_predictions)\n",
    "prediction_list = []\n",
    "for prediction in true_predictions:\n",
    "    prediction_list.append(prediction['predictions'][0])"
   ]
  },
  {
   "cell_type": "code",
   "execution_count": null,
   "metadata": {},
   "outputs": [],
   "source": [
    "y_test = y_test.values"
   ]
  },
  {
   "cell_type": "code",
   "execution_count": null,
   "metadata": {},
   "outputs": [],
   "source": [
    "modified_rmse(prediction_list,y_test)"
   ]
  },
  {
   "cell_type": "markdown",
   "metadata": {},
   "source": [
    "## Conclusion: Using a DNNRegressor does not create a marked differnece in RMSE value\n",
    "## Standardising features actually results in a drop in accuracy"
   ]
  },
  {
   "cell_type": "code",
   "execution_count": null,
   "metadata": {},
   "outputs": [],
   "source": []
  }
 ],
 "metadata": {
  "kernelspec": {
   "display_name": "Python 3",
   "language": "python",
   "name": "python3"
  },
  "language_info": {
   "codemirror_mode": {
    "name": "ipython",
    "version": 3
   },
   "file_extension": ".py",
   "mimetype": "text/x-python",
   "name": "python",
   "nbconvert_exporter": "python",
   "pygments_lexer": "ipython3",
   "version": "3.7.2"
  }
 },
 "nbformat": 4,
 "nbformat_minor": 2
}
