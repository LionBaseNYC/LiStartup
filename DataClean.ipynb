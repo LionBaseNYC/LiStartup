{
 "cells": [
  {
   "cell_type": "markdown",
   "metadata": {},
   "source": [
    "## Setup: Create a path at the root as ./Private/Data, and move the shared CSV dataset files into this path. The same directory has been gitignored to preserve data integrity. Once this has been completed, the cells can be run in order to create a single pandas dataframe with all the company data, which is then saved as a single master CSV file"
   ]
  },
  {
   "cell_type": "markdown",
   "metadata": {},
   "source": [
    "## Please do NOT edit this notebook unless you want to modify the data retrival process. For approaches to use this data to predict valuations/other metrics, please create separate notebooks in this same master directory. This notebook is inteded for data retrieval and data cleaning alone\n",
    "\n",
    "## Please also do not uncomment commented lines and then commit changes without re-commenting these lines. The lines have been commented in order to preserve data integrity, as this is a public repository."
   ]
  },
  {
   "cell_type": "markdown",
   "metadata": {},
   "source": [
    "## For more information about this project/access to the data, please contact LionBase at https://lionbase.nyc/"
   ]
  },
  {
   "cell_type": "code",
   "execution_count": 1,
   "metadata": {},
   "outputs": [],
   "source": [
    "# Standard Imports\n",
    "import pandas as pd\n",
    "#import matplotlib.pyplot as plt\n",
    "#import numpy as np\n",
    "%matplotlib inline\n",
    "\n",
    "path = './Private/Data/'\n",
    "file_names = ['Financials.csv','MarketData.csv','Profiles.csv']"
   ]
  },
  {
   "cell_type": "code",
   "execution_count": 2,
   "metadata": {},
   "outputs": [],
   "source": [
    "financial_frame = pd.read_csv(path+file_names[0])\n",
    "market_frame = pd.read_csv(path+file_names[1])\n",
    "profile_frame = pd.read_csv(path+file_names[2])\n",
    "\n",
    "#Dropping all the source columns, this data is not relevant \n",
    "financial_frame.drop(['Source','Source.1','Source.2','Source.3','Source.4','Source.5','Source.6'],axis=1, inplace=True)\n",
    "market_frame.drop(['Source','Source.1','Source.2', 'Source.3', 'Source.4', 'Source.5', 'Source.6', 'Source.7'],axis=1, inplace=True)\n",
    "profile_frame.drop(['Source','Source.1','Source.2', 'Source.3', 'Source.4', 'Source.5', 'Source.6'],axis=1, inplace=True)\n",
    "\n",
    "#financial_frame.head()\n",
    "#market_frame.head()\n",
    "#profile_frame.head()"
   ]
  },
  {
   "cell_type": "code",
   "execution_count": 3,
   "metadata": {},
   "outputs": [],
   "source": [
    "master_frame = pd.concat([financial_frame,market_frame, profile_frame], axis=1)"
   ]
  },
  {
   "cell_type": "code",
   "execution_count": 4,
   "metadata": {},
   "outputs": [],
   "source": [
    "def clean_ticker(old_ticker):\n",
    "    old_ticker=str(old_ticker)\n",
    "    if(old_ticker=='nan'):\n",
    "        return \"N/A\"\n",
    "    hyphen_index = old_ticker.find('-')\n",
    "    if(hyphen_index==-1):\n",
    "        return old_ticker\n",
    "    new_ticker = old_ticker[0:hyphen_index]\n",
    "    return new_ticker"
   ]
  },
  {
   "cell_type": "code",
   "execution_count": 5,
   "metadata": {},
   "outputs": [],
   "source": [
    "master_frame.columns = master_frame.columns.str.strip().str.lower().str.replace(' ', '_').str.replace('(', '').str.replace(')', '')\n",
    "master_frame.drop(['name'],axis=1,inplace=True)\n",
    "master_frame.drop(['cusip'],axis=1,inplace=True)\n",
    "master_frame['quote_symbol'] = master_frame['quote_symbol'].apply(clean_ticker)\n",
    "#master_frame.head()"
   ]
  },
  {
   "cell_type": "markdown",
   "metadata": {},
   "source": [
    "### List of features avalible in the dataset"
   ]
  },
  {
   "cell_type": "code",
   "execution_count": 6,
   "metadata": {},
   "outputs": [
    {
     "name": "stdout",
     "output_type": "stream",
     "text": [
      "current_sales\n",
      "current_ebitda\n",
      "current_ebit\n",
      "current_net_income\n",
      "current_total_assets\n",
      "current_total_liabilities\n",
      "current_market_cap_usd\n",
      "current_price_close\n",
      "current_pe_ratio\n",
      "actual_eps\n",
      "current_price_/_cash\n",
      "current_price_/_sales\n",
      "dividend_yield\n",
      "quote_symbol\n",
      "sedol\n",
      "country\n",
      "exchange\n",
      "primary_sic_code\n",
      "\n",
      "\n",
      "Number of elements:4577\n"
     ]
    }
   ],
   "source": [
    "feature_list = list(master_frame.columns.values)\n",
    "for feature in feature_list:\n",
    "    print(feature)\n",
    "print('\\n')\n",
    "print(\"Number of elements:{}\".format(len(master_frame)))\n",
    "\n",
    "mastercsv = path+'MasterDataset.csv'"
   ]
  },
  {
   "cell_type": "code",
   "execution_count": 7,
   "metadata": {},
   "outputs": [],
   "source": [
    "#Save dataframe to CSV file\n",
    "master_frame.to_csv(mastercsv, sep='\\t', encoding='utf-8')"
   ]
  },
  {
   "cell_type": "markdown",
   "metadata": {},
   "source": [
    "## This dataset is now ready to be used in a separate notebook, in order to analyse and predict trends of companies."
   ]
  }
 ],
 "metadata": {
  "kernelspec": {
   "display_name": "Python 3",
   "language": "python",
   "name": "python3"
  },
  "language_info": {
   "codemirror_mode": {
    "name": "ipython",
    "version": 3
   },
   "file_extension": ".py",
   "mimetype": "text/x-python",
   "name": "python",
   "nbconvert_exporter": "python",
   "pygments_lexer": "ipython3",
   "version": "3.7.2"
  }
 },
 "nbformat": 4,
 "nbformat_minor": 2
}
