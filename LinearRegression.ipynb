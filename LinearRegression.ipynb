{
 "cells": [
  {
   "cell_type": "markdown",
   "metadata": {},
   "source": [
    "## The purpose of this notebook is to evalaate whether LinearRegression is a suitable approach to understand and predict market caps of corporations, based on a large number of features and a dataset of corporation financial information"
   ]
  },
  {
   "cell_type": "markdown",
   "metadata": {},
   "source": [
    "## NOTE: All the values represented are in millions"
   ]
  },
  {
   "cell_type": "code",
   "execution_count": 56,
   "metadata": {},
   "outputs": [],
   "source": [
    "# Standard Imports\n",
    "import pandas as pd\n",
    "import matplotlib.pyplot as plt\n",
    "import numpy as np\n",
    "import sklearn\n",
    "from sklearn.linear_model import LinearRegression\n",
    "from sklearn.model_selection import train_test_split\n",
    "from sklearn.metrics import mean_squared_error\n",
    "from math import sqrt\n",
    "from statistics import mean\n",
    "%matplotlib inline\n",
    "path = './Private/Data/MasterDataset.csv'\n",
    "conversion_factor = 1000000"
   ]
  },
  {
   "cell_type": "code",
   "execution_count": 31,
   "metadata": {},
   "outputs": [],
   "source": [
    "master_frame = pd.read_csv(path, sep='\\t')\n",
    "master_frame.drop(['Unnamed: 0'],axis=1,inplace=True)\n",
    "master_frame.dropna(inplace=True)"
   ]
  },
  {
   "cell_type": "code",
   "execution_count": 32,
   "metadata": {},
   "outputs": [],
   "source": [
    "y_values = master_frame['current_market_cap_usd']\n",
    "master_frame.drop(['current_ebit'],axis=1, inplace=True)\n",
    "master_frame.drop(['current_market_cap_usd'],axis=1, inplace=True)\n",
    "master_frame.drop(['quote_symbol'],axis=1, inplace=True)\n",
    "master_frame.drop(['sedol'],axis=1, inplace=True)\n",
    "master_frame.drop(['country'],axis=1, inplace=True)\n",
    "master_frame.drop(['exchange'],axis=1, inplace=True)\n",
    "master_frame.drop(['primary_sic_code'],axis=1, inplace=True)\n",
    "master_frame.drop(['current_price_close'],axis=1, inplace=True)"
   ]
  },
  {
   "cell_type": "markdown",
   "metadata": {},
   "source": [
    "## Feature List post dropping irrelevant columns:"
   ]
  },
  {
   "cell_type": "code",
   "execution_count": 33,
   "metadata": {},
   "outputs": [
    {
     "name": "stdout",
     "output_type": "stream",
     "text": [
      "current_sales\n",
      "current_ebitda\n",
      "current_net_income\n",
      "current_total_assets\n",
      "current_total_liabilities\n",
      "current_pe_ratio\n",
      "actual_eps\n",
      "current_price_/_cash\n",
      "current_price_/_sales\n",
      "dividend_yield\n"
     ]
    }
   ],
   "source": [
    "for column in master_frame.columns:\n",
    "    print(column)"
   ]
  },
  {
   "cell_type": "code",
   "execution_count": 34,
   "metadata": {},
   "outputs": [],
   "source": [
    "# Performing a 60-30 train test split\n",
    "x_train, x_test, y_train, y_test = train_test_split(master_frame,y_values,test_size=0.3,random_state=101)"
   ]
  },
  {
   "cell_type": "code",
   "execution_count": 35,
   "metadata": {},
   "outputs": [],
   "source": [
    "reg = LinearRegression().fit(x_train, y_train)"
   ]
  },
  {
   "cell_type": "code",
   "execution_count": 36,
   "metadata": {},
   "outputs": [
    {
     "data": {
      "text/plain": [
       "0.791159401554393"
      ]
     },
     "execution_count": 36,
     "metadata": {},
     "output_type": "execute_result"
    }
   ],
   "source": [
    "#Score with exact training values\n",
    "reg.score(x_train,y_train)"
   ]
  },
  {
   "cell_type": "markdown",
   "metadata": {},
   "source": [
    "## Experimenting with some existing metrics to score the current model"
   ]
  },
  {
   "cell_type": "code",
   "execution_count": 37,
   "metadata": {},
   "outputs": [],
   "source": [
    "y_predictions = reg.predict(x_test)\n",
    "y_test = y_test.values"
   ]
  },
  {
   "cell_type": "code",
   "execution_count": 38,
   "metadata": {},
   "outputs": [
    {
     "name": "stdout",
     "output_type": "stream",
     "text": [
      "Raw Accuracy = 56.64264353001825%\n"
     ]
    }
   ],
   "source": [
    "# Absolute scoring\n",
    "abs_percentage = reg.score(x_test,y_test)\n",
    "print(\"Raw Accuracy = {}%\".format(abs_percentage*100))"
   ]
  },
  {
   "cell_type": "code",
   "execution_count": 39,
   "metadata": {},
   "outputs": [
    {
     "name": "stdout",
     "output_type": "stream",
     "text": [
      "Root Mean Squared Error: 34591.0932950143\n"
     ]
    }
   ],
   "source": [
    "#Scoring using a root mean squared error\n",
    "rmse = sqrt(mean_squared_error(y_test,y_predictions))\n",
    "print(\"Root Mean Squared Error: {}\".format(rmse))"
   ]
  },
  {
   "cell_type": "markdown",
   "metadata": {},
   "source": [
    "## Trying to narrow the features down to a more concise set"
   ]
  },
  {
   "cell_type": "code",
   "execution_count": 40,
   "metadata": {},
   "outputs": [],
   "source": [
    "master_frame['ebitda_to_sales'] = master_frame['current_ebitda']/master_frame['current_sales']\n",
    "master_frame.drop(['current_ebitda'],axis=1, inplace=True)\n",
    "master_frame.drop(['current_sales'],axis=1, inplace=True)\n",
    "\n",
    "master_frame.drop(['current_net_income'],axis=1, inplace=True)\n",
    "master_frame['net_assets'] = master_frame['current_total_assets'] - master_frame['current_total_liabilities']\n",
    "#master_frame.drop(['current_total_assets'],axis=1, inplace=True)\n",
    "#master_frame.drop(['current_total_liabilities'],axis=1, inplace=True)\n",
    "#master_frame.drop(['current_price_/_sales'],axis=1, inplace=True)"
   ]
  },
  {
   "cell_type": "code",
   "execution_count": 41,
   "metadata": {},
   "outputs": [],
   "source": [
    "x_train, x_test, y_train, y_test = train_test_split(master_frame,y_values,test_size=0.3,random_state=101)"
   ]
  },
  {
   "cell_type": "code",
   "execution_count": 42,
   "metadata": {},
   "outputs": [
    {
     "data": {
      "text/plain": [
       "0.5613198689496157"
      ]
     },
     "execution_count": 42,
     "metadata": {},
     "output_type": "execute_result"
    }
   ],
   "source": [
    "reg = LinearRegression().fit(x_train, y_train)\n",
    "reg.score(x_train,y_train)"
   ]
  },
  {
   "cell_type": "code",
   "execution_count": 43,
   "metadata": {},
   "outputs": [
    {
     "name": "stdout",
     "output_type": "stream",
     "text": [
      "Raw Accuracy = 43.604136823362104%\n",
      "Root Mean Squared Error: 39450.863657906295\n"
     ]
    }
   ],
   "source": [
    "## Experimenting with some existing metrics to score the current model\n",
    "\n",
    "y_predictions = reg.predict(x_test)\n",
    "y_test = y_test.values\n",
    "\n",
    "# Absolute scoring\n",
    "abs_percentage = reg.score(x_test,y_test)\n",
    "print(\"Raw Accuracy = {}%\".format(abs_percentage*100))\n",
    "\n",
    "#Scoring using a root mean squared error\n",
    "rmse = sqrt(mean_squared_error(y_test,y_predictions))\n",
    "print(\"Root Mean Squared Error: {}\".format(rmse))"
   ]
  },
  {
   "cell_type": "markdown",
   "metadata": {},
   "source": [
    "## Narrowing down features doesn't make a substantial impact to the model"
   ]
  },
  {
   "cell_type": "markdown",
   "metadata": {},
   "source": [
    "## Resetting the dataframe"
   ]
  },
  {
   "cell_type": "code",
   "execution_count": 44,
   "metadata": {},
   "outputs": [],
   "source": [
    "master_frame = pd.read_csv(path, sep='\\t')\n",
    "master_frame.drop(['Unnamed: 0'],axis=1,inplace=True)\n",
    "master_frame.dropna(inplace=True)\n",
    "\n",
    "y_values = master_frame['current_market_cap_usd']\n",
    "master_frame.drop(['current_ebit'],axis=1, inplace=True)\n",
    "master_frame.drop(['current_market_cap_usd'],axis=1, inplace=True)\n",
    "master_frame.drop(['quote_symbol'],axis=1, inplace=True)\n",
    "master_frame.drop(['sedol'],axis=1, inplace=True)\n",
    "master_frame.drop(['country'],axis=1, inplace=True)\n",
    "master_frame.drop(['exchange'],axis=1, inplace=True)\n",
    "master_frame.drop(['primary_sic_code'],axis=1, inplace=True)\n",
    "master_frame.drop(['current_price_close'],axis=1, inplace=True)"
   ]
  },
  {
   "cell_type": "code",
   "execution_count": 45,
   "metadata": {},
   "outputs": [],
   "source": [
    "# Performing a 60-30 train test split\n",
    "x_train, x_test, y_train, y_test = train_test_split(master_frame,y_values,test_size=0.3,random_state=101)"
   ]
  },
  {
   "cell_type": "code",
   "execution_count": 46,
   "metadata": {},
   "outputs": [
    {
     "data": {
      "text/plain": [
       "0.791159401554393"
      ]
     },
     "execution_count": 46,
     "metadata": {},
     "output_type": "execute_result"
    }
   ],
   "source": [
    "reg = LinearRegression().fit(x_train, y_train)\n",
    "\n",
    "#Score with exact training values\n",
    "reg.score(x_train,y_train)"
   ]
  },
  {
   "cell_type": "code",
   "execution_count": 47,
   "metadata": {},
   "outputs": [],
   "source": [
    "y_predictions = reg.predict(x_test)\n",
    "y_test = y_test.values"
   ]
  },
  {
   "cell_type": "markdown",
   "metadata": {},
   "source": [
    "## Using a modified RMSE function with a percentile acceptable bound, in order to better understand our outputs"
   ]
  },
  {
   "cell_type": "code",
   "execution_count": 49,
   "metadata": {},
   "outputs": [],
   "source": [
    "bound = 0.1\n",
    "def calc_bounded_error(y_pred, y_real):\n",
    "    lower = y_real*(1-bound)\n",
    "    upper = y_real*(1+bound)\n",
    "    difference_low = (y_pred-lower)**2\n",
    "    difference_up = (y_pred-upper)**2\n",
    "    if difference_up > difference_low:\n",
    "        return difference_low\n",
    "    return difference_up"
   ]
  },
  {
   "cell_type": "code",
   "execution_count": 59,
   "metadata": {},
   "outputs": [],
   "source": [
    "def modified_rmse(y_predictions, y_tests):\n",
    "    my_list = []\n",
    "    for i in range(0,len(y_predictions)):\n",
    "        my_list.append(calc_bounded_error(y_predictions[i],y_tests[i]))\n",
    "    mean_val = mean(my_list)\n",
    "    modified_rmse = sqrt(mean_val)\n",
    "    return modified_rmse"
   ]
  },
  {
   "cell_type": "code",
   "execution_count": 60,
   "metadata": {},
   "outputs": [
    {
     "data": {
      "text/plain": [
       "29643.770782869367"
      ]
     },
     "execution_count": 60,
     "metadata": {},
     "output_type": "execute_result"
    }
   ],
   "source": [
    "modified_rmse(y_predictions, y_test)"
   ]
  },
  {
   "cell_type": "markdown",
   "metadata": {},
   "source": [
    "## TODO:\n",
    "### Extract more data, in order to improve the regression model\n",
    "### Explore the usage of a DNNRegressor in order to check whether that produces any better results"
   ]
  },
  {
   "cell_type": "code",
   "execution_count": null,
   "metadata": {},
   "outputs": [],
   "source": []
  }
 ],
 "metadata": {
  "kernelspec": {
   "display_name": "Python 3",
   "language": "python",
   "name": "python3"
  },
  "language_info": {
   "codemirror_mode": {
    "name": "ipython",
    "version": 3
   },
   "file_extension": ".py",
   "mimetype": "text/x-python",
   "name": "python",
   "nbconvert_exporter": "python",
   "pygments_lexer": "ipython3",
   "version": "3.7.2"
  }
 },
 "nbformat": 4,
 "nbformat_minor": 2
}
